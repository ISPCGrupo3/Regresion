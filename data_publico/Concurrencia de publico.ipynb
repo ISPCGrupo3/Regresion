{
 "cells": [
  {
   "cell_type": "markdown",
   "id": "43cadd57",
   "metadata": {},
   "source": [
    "# Horario de mayor concurrencia de negocio\n",
    "\n",
    "\n",
    "Script para hacer scraping del publico de un negocio en base a la altura de la barra del grafico que se muestra en la busqueda de google."
   ]
  },
  {
   "cell_type": "code",
   "execution_count": 1,
   "id": "8e020f3d",
   "metadata": {},
   "outputs": [],
   "source": [
    "from selenium import webdriver\n",
    "from selenium.webdriver.common.by import By\n",
    "from selenium.webdriver.support.ui import WebDriverWait\n",
    "from selenium.webdriver.support import expected_conditions as EC\n",
    "from selenium.webdriver.common.keys import Keys\n",
    "from selenium.common.exceptions import NoSuchElementException, TimeoutException, ElementNotInteractableException, ElementClickInterceptedException\n",
    "from selenium.webdriver.chrome.service import Service as ChromeService\n",
    "from webdriver_manager.chrome import ChromeDriverManager\n",
    "\n",
    "from selenium.webdriver.support import expected_conditions as EC\n",
    "from selenium.webdriver.common.by import By\n",
    "from selenium.webdriver.support.ui import WebDriverWait as wait\n",
    "\n",
    "import pandas as pd\n",
    "import numpy as np\n",
    "import matplotlib.pyplot as plt\n",
    "import seaborn as sns\n",
    "\n",
    "import requests\n",
    "import warnings\n",
    "from bs4 import BeautifulSoup\n",
    "warnings.filterwarnings('ignore')\n",
    "\n",
    "import folium\n",
    "\n",
    "import time, re"
   ]
  },
  {
   "cell_type": "code",
   "execution_count": 2,
   "id": "8a66153e",
   "metadata": {},
   "outputs": [],
   "source": [
    "url = 'https://www.google.com/search?q=cordoba+shopping&oq=cordoba+shoop&aqs=edge.1.69i57j0i10i131i433i512j0i10i512l7.6107j0j1&sourceid=chrome&ie=UTF-8'"
   ]
  },
  {
   "cell_type": "code",
   "execution_count": 3,
   "id": "eeca3c61",
   "metadata": {},
   "outputs": [
    {
     "name": "stderr",
     "output_type": "stream",
     "text": [
      "[WDM] - Downloading: 100%|██████████| 8.08M/8.08M [00:00<00:00, 20.1MB/s]\n"
     ]
    }
   ],
   "source": [
    "driver = webdriver.Chrome(ChromeDriverManager().install())\n",
    "driver.get(url)"
   ]
  },
  {
   "cell_type": "code",
   "execution_count": 4,
   "id": "8ffe2234",
   "metadata": {},
   "outputs": [],
   "source": [
    "data = driver.find_elements_by_css_selector('div[role=\"radiogroup\"]')"
   ]
  },
  {
   "cell_type": "code",
   "execution_count": 5,
   "id": "d4459536",
   "metadata": {},
   "outputs": [],
   "source": [
    "data = driver.find_elements_by_css_selector('div[data-hour]')"
   ]
  },
  {
   "cell_type": "code",
   "execution_count": 6,
   "id": "657fd924",
   "metadata": {},
   "outputs": [],
   "source": [
    "i    = 0\n",
    "k    = 0\n",
    "df   = pd.DataFrame()\n",
    "df2  = pd.DataFrame()\n",
    "df3  = pd.DataFrame()"
   ]
  },
  {
   "cell_type": "code",
   "execution_count": 7,
   "id": "3341f741",
   "metadata": {},
   "outputs": [],
   "source": [
    "def scrap(df, df2, data, i, k, n):\n",
    "    for hora in data:\n",
    "        try:\n",
    "            df   = df.append( pd.Series(data[i].get_attribute('data-hour'))  , ignore_index=True)\n",
    "            i    = i+1\n",
    "        except:\n",
    "            print('Hubo un error')\n",
    "    for hora in data:\n",
    "        try:\n",
    "            df2  = df2.append( pd.Series(data[k].find_elements_by_css_selector('div')[1].get_attribute('style')) , ignore_index=True) \n",
    "            k = k + 1\n",
    "        except:\n",
    "            print('Hubo un error')\n",
    "    df2 = (df2[0].str.split(expand=True)[1]).str.split('p', expand=True)[0].str.split(expand=True)\n",
    "    df.columns=['Horas']\n",
    "    df2.columns=['Cantidad']\n",
    "    df3 = pd.concat([df, df2], axis=1)\n",
    "    df3 = df3.assign( Dia  = n)\n",
    "    return df3"
   ]
  },
  {
   "cell_type": "code",
   "execution_count": 8,
   "id": "1828a50c",
   "metadata": {},
   "outputs": [],
   "source": [
    "wait(driver, 10).until(EC.element_to_be_clickable((By.XPATH, \"//span[text()= 'lun' ]\"))).click()\n",
    "df3 = df3.append(scrap(df, df2, data, i, k, 1))\n",
    "i    = 0\n",
    "k    = 0"
   ]
  },
  {
   "cell_type": "code",
   "execution_count": 9,
   "id": "ed4f6b8f",
   "metadata": {},
   "outputs": [],
   "source": [
    "wait(driver, 10).until(EC.element_to_be_clickable((By.XPATH, \"//span[text()= 'mar' ]\"))).click()\n",
    "df3 = df3.append(scrap(df, df2, data, i, k, 2))\n",
    "i    = 0\n",
    "k    = 0"
   ]
  },
  {
   "cell_type": "code",
   "execution_count": 10,
   "id": "44790aa8",
   "metadata": {},
   "outputs": [],
   "source": [
    "wait(driver, 10).until(EC.element_to_be_clickable((By.XPATH, \"//span[text()= 'mié' ]\"))).click()\n",
    "df3 = df3.append(scrap(df, df2, data, i, k, 3))\n",
    "i    = 0\n",
    "k    = 0"
   ]
  },
  {
   "cell_type": "code",
   "execution_count": 11,
   "id": "8b371f8f",
   "metadata": {},
   "outputs": [],
   "source": [
    "wait(driver, 10).until(EC.element_to_be_clickable((By.XPATH, \"//span[text()= 'jue' ]\"))).click()\n",
    "df3 = df3.append(scrap(df, df2, data, i, k, 4))\n",
    "i    = 0\n",
    "k    = 0"
   ]
  },
  {
   "cell_type": "code",
   "execution_count": 12,
   "id": "5a0659a5",
   "metadata": {},
   "outputs": [],
   "source": [
    "wait(driver, 10).until(EC.element_to_be_clickable((By.XPATH, \"//span[text()= 'vie' ]\"))).click()\n",
    "df3 = df3.append(scrap(df, df2, data, i, k, 5))\n",
    "i    = 0\n",
    "k    = 0"
   ]
  },
  {
   "cell_type": "code",
   "execution_count": 13,
   "id": "e56d66f7",
   "metadata": {},
   "outputs": [],
   "source": [
    "wait(driver, 10).until(EC.element_to_be_clickable((By.XPATH, \"//span[text()= 'sáb' ]\"))).click()\n",
    "df3 = df3.append(scrap(df, df2, data, i, k, 6))\n",
    "i    = 0\n",
    "k    = 0"
   ]
  },
  {
   "cell_type": "code",
   "execution_count": 14,
   "id": "c4ccc8c1",
   "metadata": {},
   "outputs": [],
   "source": [
    "wait(driver, 10).until(EC.element_to_be_clickable((By.XPATH, \"//span[text()= 'dom' ]\"))).click()\n",
    "df3 = df3.append(scrap(df, df2, data, i, k, 7))\n",
    "i    = 0\n",
    "k    = 0"
   ]
  },
  {
   "cell_type": "code",
   "execution_count": 16,
   "id": "22d17782",
   "metadata": {
    "scrolled": true
   },
   "outputs": [],
   "source": [
    "df3.to_csv('distribucion_dia_horario.csv', sep=';', index=False)"
   ]
  },
  {
   "cell_type": "code",
   "execution_count": null,
   "id": "9684325a-faa9-496a-bd27-011fdfb652d7",
   "metadata": {},
   "outputs": [],
   "source": []
  },
  {
   "cell_type": "code",
   "execution_count": null,
   "id": "aa88ef23-41f5-4efe-a82a-6f6f34e8f388",
   "metadata": {},
   "outputs": [],
   "source": []
  },
  {
   "cell_type": "code",
   "execution_count": null,
   "id": "b71ba639-f21f-400e-a8a8-8037201a5b82",
   "metadata": {},
   "outputs": [],
   "source": []
  },
  {
   "cell_type": "code",
   "execution_count": null,
   "id": "92cafe02-46f8-429b-8b69-395ffbee6c5f",
   "metadata": {},
   "outputs": [],
   "source": []
  }
 ],
 "metadata": {
  "kernelspec": {
   "display_name": "Python 3 (ipykernel)",
   "language": "python",
   "name": "python3"
  },
  "language_info": {
   "codemirror_mode": {
    "name": "ipython",
    "version": 3
   },
   "file_extension": ".py",
   "mimetype": "text/x-python",
   "name": "python",
   "nbconvert_exporter": "python",
   "pygments_lexer": "ipython3",
   "version": "3.9.12"
  }
 },
 "nbformat": 4,
 "nbformat_minor": 5
}
